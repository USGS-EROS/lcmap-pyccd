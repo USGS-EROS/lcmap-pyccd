{
 "cells": [
  {
   "cell_type": "code",
   "execution_count": 1,
   "metadata": {
    "collapsed": true
   },
   "outputs": [],
   "source": [
    "# For if you want to just be working in your cloned git directory, and not installed to a python environment\n",
    "import os\n",
    "import sys\n",
    "module_path = os.path.abspath(os.path.join('..'))\n",
    "if module_path not in sys.path:\n",
    "    sys.path.insert(0, module_path)"
   ]
  },
  {
   "cell_type": "code",
   "execution_count": 2,
   "metadata": {
    "collapsed": true
   },
   "outputs": [],
   "source": [
    "# import logging\n",
    "\n",
    "# __format = '%(asctime)s %(module)-10s::%(funcName)-20s - [%(lineno)-3d]%(message)s'\n",
    "# logging.basicConfig(level=logging.DEBUG,\n",
    "#                     format=__format,\n",
    "#                     datefmt='%Y-%m-%d %H:%M:%S')\n",
    "import time"
   ]
  },
  {
   "cell_type": "code",
   "execution_count": 3,
   "metadata": {
    "collapsed": false
   },
   "outputs": [],
   "source": [
    "import ccd\n",
    "from test.shared import read_data"
   ]
  },
  {
   "cell_type": "code",
   "execution_count": 9,
   "metadata": {
    "collapsed": false
   },
   "outputs": [
    {
     "name": "stdout",
     "output_type": "stream",
     "text": [
      "1.2226929664611816\n"
     ]
    }
   ],
   "source": [
    "params = {'QA_BITPACKED': False,\n",
    "              'QA_FILL': 255,\n",
    "              'QA_CLEAR': 0,\n",
    "              'QA_WATER': 1,\n",
    "              'QA_SHADOW': 2,\n",
    "              'QA_SNOW': 3,\n",
    "              'QA_CLOUD': 4}\n",
    "\n",
    "data = read_data('../test/resources/test_3657_3610_observations.csv')\n",
    "dates, blues, greens, reds, nirs, swir1s, swir2s, thermals, qas = data\n",
    "t = time.time()\n",
    "results = ccd.detect(dates, blues, greens, reds, nirs, swir1s, swir2s, thermals, qas, params=params)\n",
    "print(time.time() - t)"
   ]
  },
  {
   "cell_type": "code",
   "execution_count": null,
   "metadata": {
    "collapsed": true
   },
   "outputs": [],
   "source": []
  }
 ],
 "metadata": {
  "anaconda-cloud": {},
  "kernelspec": {
   "display_name": "Python [conda env:lcmap-pyccd]",
   "language": "python",
   "name": "conda-env-lcmap-pyccd-py"
  },
  "language_info": {
   "codemirror_mode": {
    "name": "ipython",
    "version": 3
   },
   "file_extension": ".py",
   "mimetype": "text/x-python",
   "name": "python",
   "nbconvert_exporter": "python",
   "pygments_lexer": "ipython3",
   "version": "3.4.5"
  }
 },
 "nbformat": 4,
 "nbformat_minor": 1
}
